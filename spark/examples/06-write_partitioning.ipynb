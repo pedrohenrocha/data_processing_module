{
  "cells": [
    {
      "cell_type": "markdown",
      "metadata": {
        "id": "view-in-github",
        "colab_type": "text"
      },
      "source": [
        "<a href=\"https://colab.research.google.com/github/pedrohenrocha/data_processing_module/blob/main/spark/examples/06-write_partitioning.ipynb\" target=\"_parent\"><img src=\"https://colab.research.google.com/assets/colab-badge.svg\" alt=\"Open In Colab\"/></a>"
      ]
    },
    {
      "cell_type": "markdown",
      "metadata": {
        "id": "BOA_wQSmLd9z"
      },
      "source": [
        "# Write\n",
        "- .write\n",
        "- .format (parquet, csv, json)\n",
        "- options\n",
        "- spark.sql.sources.partitionOverwriteMode dynamic\n",
        "\n",
        "# Write Mode\n",
        "- overwrite - The overwrite mode is used to overwrite the existing file, alternatively, you can use SaveMode.Overwrite\n",
        "- append - To add the data to the existing file, alternatively, you can use SaveMode.Append\n",
        "- ignore - Ignores write operation when the file already exists, alternatively, you can use SaveMode.Ignore.\n",
        "- errorifexists or error - This is a default option when the file already exists, it returns an error, alternatively, you can use SaveMode.ErrorIfExists.\n",
        "\n",
        "# Partitioning\n",
        "Process to organize the data into multiple chunks based on some criteria.\n",
        "Partitions are organized in sub-folders.\n",
        "Partitioning improves performance in Spark."
      ]
    },
    {
      "cell_type": "markdown",
      "metadata": {
        "id": "d9LeYFsPTjAb"
      },
      "source": [
        "# Setting up PySpark"
      ]
    },
    {
      "cell_type": "code",
      "execution_count": null,
      "metadata": {
        "id": "uYXeODL0T1fO"
      },
      "outputs": [],
      "source": [
        "%pip install pyspark"
      ]
    },
    {
      "cell_type": "code",
      "execution_count": 1,
      "metadata": {
        "id": "637HFw00T3LP"
      },
      "outputs": [],
      "source": [
        "from pyspark.sql import SparkSession\n",
        "spark = SparkSession.builder.master('local').appName('Spark Course').getOrCreate()"
      ]
    },
    {
      "cell_type": "markdown",
      "metadata": {
        "id": "Vj3Cg2riVX3m"
      },
      "source": [
        "# Preparing data"
      ]
    },
    {
      "cell_type": "code",
      "source": [
        "!pip install faker"
      ],
      "metadata": {
        "id": "83BBHcNJDmw4",
        "outputId": "f5cd2424-b3a6-4e22-ad25-96a24a739d63",
        "colab": {
          "base_uri": "https://localhost:8080/"
        }
      },
      "execution_count": 2,
      "outputs": [
        {
          "output_type": "stream",
          "name": "stdout",
          "text": [
            "Collecting faker\n",
            "  Downloading faker-37.4.0-py3-none-any.whl.metadata (15 kB)\n",
            "Requirement already satisfied: tzdata in /usr/local/lib/python3.11/dist-packages (from faker) (2025.2)\n",
            "Downloading faker-37.4.0-py3-none-any.whl (1.9 MB)\n",
            "\u001b[?25l   \u001b[90m━━━━━━━━━━━━━━━━━━━━━━━━━━━━━━━━━━━━━━━━\u001b[0m \u001b[32m0.0/1.9 MB\u001b[0m \u001b[31m?\u001b[0m eta \u001b[36m-:--:--\u001b[0m\r\u001b[2K   \u001b[90m━━━━━━━━━━━━━━━━━━━━━━━━━━━━━━━━━━━━━━━━\u001b[0m \u001b[32m1.9/1.9 MB\u001b[0m \u001b[31m69.3 MB/s\u001b[0m eta \u001b[36m0:00:00\u001b[0m\n",
            "\u001b[?25hInstalling collected packages: faker\n",
            "Successfully installed faker-37.4.0\n"
          ]
        }
      ]
    },
    {
      "cell_type": "code",
      "execution_count": 3,
      "metadata": {
        "id": "z-caHS2MVX3m",
        "outputId": "c887f38a-2bb8-4c85-f182-d548cea83c4f",
        "colab": {
          "base_uri": "https://localhost:8080/"
        }
      },
      "outputs": [
        {
          "output_type": "stream",
          "name": "stdout",
          "text": [
            "+--------------------------------------------------------------+--------------------------+----------+--------------------------+----------------+----------------------+\n",
            "|address                                                       |date                      |dob       |email                     |name            |phone                 |\n",
            "+--------------------------------------------------------------+--------------------------+----------+--------------------------+----------------+----------------------+\n",
            "|59077 Joshua Ridges\\nPort Julie, OK 99092                     |2024-05-03 09:01:14.749509|1946-08-08|michaellewis@example.org  |Debra Conway    |(777)925-5409x40604   |\n",
            "|324 Tammy Spring Apt. 966\\nStevenburgh, RI 17678              |2024-05-02 00:40:15.946107|1945-02-22|ybrown@example.org        |Mary Miller     |(327)968-3327         |\n",
            "|USCGC Moore\\nFPO AA 13632                                     |2024-05-04 21:35:43.139512|1934-02-12|sandovaltodd@example.org  |Amanda Nelson   |001-704-946-3108x43652|\n",
            "|29914 Palmer Way\\nWest Gene, PR 85126                         |2024-05-04 21:25:26.602394|2016-09-08|rebeccaharding@example.net|Carl Carter     |+1-886-945-7695x243   |\n",
            "|932 Robert Common Apt. 450\\nOrtizton, RI 57810                |2024-05-04 04:42:29.279991|2011-03-14|cmiller@example.net       |Steven Martinez |+1-631-410-9783       |\n",
            "|0666 Bailey Cliffs\\nChristinaland, ME 11275                   |2024-05-04 17:22:42.219694|1947-03-22|carneyguy@example.net     |Felicia Anderson|(326)718-9770         |\n",
            "|6946 Victor Ridge Apt. 706\\nNorth Sean, MP 62604              |2024-05-02 14:31:37.72005 |2002-06-23|rebecca34@example.net     |Eric Hamilton   |269-754-4528          |\n",
            "|32595 Melissa Alley Suite 008\\nPeterland, GU 15586            |2024-05-01 21:50:30.230271|1941-11-23|jodisoto@example.net      |James Patterson |(431)420-6168x30023   |\n",
            "|647 Steven Corners\\nPeterfurt, PA 47264                       |2024-05-02 06:39:40.288224|1965-06-07|nmoore@example.com        |Theresa Garcia  |(625)238-4008x35587   |\n",
            "|94414 Gabriel Manors Suite 366\\nNorth Matthewborough, NC 97088|2024-05-03 19:49:09.279048|1909-11-19|cheryl37@example.com      |Amanda Foster   |+1-259-934-3091x12314 |\n",
            "+--------------------------------------------------------------+--------------------------+----------+--------------------------+----------------+----------------------+\n",
            "only showing top 10 rows\n",
            "\n"
          ]
        }
      ],
      "source": [
        "from faker import Faker\n",
        "from datetime import datetime\n",
        "\n",
        "fake = Faker()\n",
        "\n",
        "users = []\n",
        "for _ in range(50):\n",
        "    user = {\n",
        "        'date': fake.date_time_between_dates(datetime(2024, 5, 1), datetime(2024, 5, 5)),\n",
        "        'name': fake.name(),\n",
        "        'address': fake.address(),\n",
        "        'email': fake.email(),\n",
        "        'dob': fake.date_of_birth(),\n",
        "        'phone': fake.phone_number()\n",
        "    }\n",
        "    users.append(user)\n",
        "\n",
        "df = spark.createDataFrame(users)\n",
        "\n",
        "df.show(10, False)\n"
      ]
    },
    {
      "cell_type": "markdown",
      "metadata": {
        "id": "YGXjf6xpBj36"
      },
      "source": [
        "# Writing as PARQUET\n",
        "\n"
      ]
    },
    {
      "cell_type": "markdown",
      "metadata": {
        "id": "14stpbb4Bj37"
      },
      "source": []
    },
    {
      "cell_type": "code",
      "execution_count": 4,
      "metadata": {
        "id": "dw5IIgebBj37",
        "outputId": "5c6a4aef-e156-4977-f73c-e070aa739c60",
        "colab": {
          "base_uri": "https://localhost:8080/"
        }
      },
      "outputs": [
        {
          "output_type": "stream",
          "name": "stdout",
          "text": [
            "part-00000-96ecb57c-53dd-4d68-adc2-6dfad77f4f4d-c000.snappy.parquet  _SUCCESS\n"
          ]
        },
        {
          "output_type": "execute_result",
          "data": {
            "text/plain": [
              "50"
            ]
          },
          "metadata": {},
          "execution_count": 4
        }
      ],
      "source": [
        "# Writing as PARQUET with no partitions\n",
        "\n",
        "path = \"/content/write_partitioning/parquet_no_partitions\"\n",
        "\n",
        "df.write.mode(\"overwrite\").format(\"parquet\").save(path)\n",
        "\n",
        "!ls /content/write_partitioning/parquet_no_partitions\n",
        "\n",
        "spark.read.format(\"parquet\").load(path).count()"
      ]
    },
    {
      "cell_type": "code",
      "source": [
        "# Writing as PARQUET with partitions\n",
        "from pyspark.sql.functions import *\n",
        "\n",
        "path = \"/content/write_partitioning/parquet_with_partitions\"\n",
        "\n",
        "# Creating partition column\n",
        "df = df.withColumn(\"date_part\", date_format(col(\"date\"), \"yyyyMMdd\"))\n",
        "\n",
        "spark.conf.set(\"spark.sql.sources.partitionOverwriteMode\",\"dynamic\") # enable dynamic partition overwrite - only overwrites partitions that are coming in the dataframe\n",
        "\n",
        "(df#.where(\"date_part = '20240503'\")\n",
        " .write\n",
        " .mode(\"overwrite\")                                               # overwrites the entire path with the new data\n",
        " .partitionBy(\"date_part\")                                        # partition the data by column - creates sub-folders for each partition\n",
        " .format(\"parquet\")                                               # format of output\n",
        " .save(path))                                                     # path\n",
        "\n",
        "!ls /content/write_partitioning/parquet_with_partitions\n",
        "\n",
        "spark.read.format(\"parquet\").load(path).count()"
      ],
      "metadata": {
        "id": "DWX9WZbPHrL1",
        "outputId": "c0b7a776-1574-44ca-e797-672156a22ae1",
        "colab": {
          "base_uri": "https://localhost:8080/"
        }
      },
      "execution_count": 5,
      "outputs": [
        {
          "output_type": "stream",
          "name": "stdout",
          "text": [
            "'date_part=20240501'  'date_part=20240503'\n",
            "'date_part=20240502'  'date_part=20240504'\n"
          ]
        },
        {
          "output_type": "execute_result",
          "data": {
            "text/plain": [
              "50"
            ]
          },
          "metadata": {},
          "execution_count": 5
        }
      ]
    },
    {
      "cell_type": "code",
      "source": [
        "# Checking single partition\n",
        "spark.read.parquet(\"/content/write_partitioning/parquet_with_partitions/date_part=20240502\").show()"
      ],
      "metadata": {
        "id": "0B62qu87JsAB",
        "outputId": "2299442c-e72b-4541-861b-39b9462b63e3",
        "colab": {
          "base_uri": "https://localhost:8080/"
        }
      },
      "execution_count": 6,
      "outputs": [
        {
          "output_type": "stream",
          "name": "stdout",
          "text": [
            "+--------------------+--------------------+----------+--------------------+-----------------+--------------------+\n",
            "|             address|                date|       dob|               email|             name|               phone|\n",
            "+--------------------+--------------------+----------+--------------------+-----------------+--------------------+\n",
            "|324 Tammy Spring ...|2024-05-02 00:40:...|1945-02-22|  ybrown@example.org|      Mary Miller|       (327)968-3327|\n",
            "|6946 Victor Ridge...|2024-05-02 14:31:...|2002-06-23|rebecca34@example...|    Eric Hamilton|        269-754-4528|\n",
            "|647 Steven Corner...|2024-05-02 06:39:...|1965-06-07|  nmoore@example.com|   Theresa Garcia| (625)238-4008x35587|\n",
            "|347 Brooke Mounta...|2024-05-02 14:46:...|1926-08-03|loretta94@example...|    Felicia Lyons|       (979)765-8474|\n",
            "|9426 James Shores...|2024-05-02 13:07:...|2017-05-20|crawforddouglas@e...|Jennifer Thompson|        489-373-5796|\n",
            "|437 John Mountain...|2024-05-02 03:40:...|1966-01-16|pcunningham@examp...|Michael Robertson|+1-215-724-1107x5...|\n",
            "|977 Charles Mount...|2024-05-02 22:35:...|1959-09-19|staffordjames@exa...|  Nathaniel Jones|   884.610.4768x7601|\n",
            "|46230 Andrew Ramp...|2024-05-02 17:10:...|1927-01-21|rosskevin@example...|   Natalie Deleon|   209-845-1159x0588|\n",
            "|6971 Darryl Fall\\...|2024-05-02 23:47:...|1983-09-25| peter90@example.com|     Karen Lozano|  (475)284-9708x3508|\n",
            "|1948 David Harbor...|2024-05-02 05:53:...|1921-07-15|jasonsmith@exampl...|   Benjamin Jones|        714.640.2208|\n",
            "|56211 Renee Spur ...|2024-05-02 05:05:...|1918-02-14|millseric@example...|      John Wilson|    778.720.6023x276|\n",
            "|088 Walker Traffi...|2024-05-02 12:59:...|2019-01-17|martinhanson@exam...|    Nicholas Wade| +1-831-914-1316x670|\n",
            "|0763 Javier Overp...|2024-05-02 20:13:...|1931-02-11| david79@example.com|      Aaron Flynn|    486-773-7246x434|\n",
            "|65217 Cochran Cli...|2024-05-02 12:43:...|1952-07-30|williamskelly@exa...|   Catherine Bell|001-883-797-9481x567|\n",
            "|363 Jessica Wells...|2024-05-02 09:06:...|1915-07-07|tiffany15@example...|       Carl Jones|       (919)462-5495|\n",
            "+--------------------+--------------------+----------+--------------------+-----------------+--------------------+\n",
            "\n"
          ]
        }
      ]
    },
    {
      "cell_type": "markdown",
      "source": [
        "# Writing as CSV\n",
        "\n",
        "https://spark.apache.org/docs/3.5.1/sql-data-sources-csv.html"
      ],
      "metadata": {
        "id": "n8mTC5yeNV6o"
      }
    },
    {
      "cell_type": "code",
      "source": [
        "df.count()"
      ],
      "metadata": {
        "id": "BnAWUTeZO43Z",
        "outputId": "3703d1a9-5d7c-44b4-89c8-60e897fe714c",
        "colab": {
          "base_uri": "https://localhost:8080/"
        }
      },
      "execution_count": 7,
      "outputs": [
        {
          "output_type": "execute_result",
          "data": {
            "text/plain": [
              "50"
            ]
          },
          "metadata": {},
          "execution_count": 7
        }
      ]
    },
    {
      "cell_type": "code",
      "source": [
        "path = \"/content/write_partitioning/csv_no_partitioning/\"\n",
        "\n",
        "# write as csv\n",
        "(df\n",
        "  .write\n",
        "  .format(\"csv\")\n",
        "  .mode(\"overwrite\")\n",
        "  .option(\"delimiter\", \"|\")\n",
        "  .option(\"header\", True)\n",
        "  .save(path))\n",
        "\n",
        "# listing files in the folder\n",
        "!ls /content/write_partitioning/csv_no_partitioning/\n",
        "\n",
        "# read as csv\n",
        "(spark\n",
        "  .read\n",
        "  .options(sep=\"|\", multiLine=True, header=True)\n",
        "  .csv(path)\n",
        "  .count())"
      ],
      "metadata": {
        "id": "oE6zC-HnNYAz",
        "outputId": "61321ac8-4caa-44eb-f0bd-7ace1056a29d",
        "colab": {
          "base_uri": "https://localhost:8080/"
        }
      },
      "execution_count": 8,
      "outputs": [
        {
          "output_type": "stream",
          "name": "stdout",
          "text": [
            "part-00000-ec26e66d-f5cd-4095-beb5-0864874141ad-c000.csv  _SUCCESS\n"
          ]
        },
        {
          "output_type": "execute_result",
          "data": {
            "text/plain": [
              "50"
            ]
          },
          "metadata": {},
          "execution_count": 8
        }
      ]
    },
    {
      "cell_type": "markdown",
      "source": [
        "# Writing as JSON\n",
        "\n",
        "https://spark.apache.org/docs/3.5.1/sql-data-sources-json.html"
      ],
      "metadata": {
        "id": "ZAuM5-WcTtyZ"
      }
    },
    {
      "cell_type": "code",
      "source": [
        "path = \"/content/write_partitioning/json_no_partitioning/\"\n",
        "\n",
        "# write as json\n",
        "(df\n",
        ".write\n",
        ".mode(\"overwrite\")\n",
        ".format(\"json\")\n",
        ".save(path))\n",
        "\n",
        "# listing files in the folder\n",
        "!ls /content/write_partitioning/json_no_partitioning/\n",
        "\n",
        "# read as json\n",
        "(spark\n",
        "  .read\n",
        "  .json(path)\n",
        "  .count())"
      ],
      "metadata": {
        "id": "vnNgwbtxTsW_",
        "outputId": "d681b7c3-aeed-42eb-8c46-383ca624066f",
        "colab": {
          "base_uri": "https://localhost:8080/"
        }
      },
      "execution_count": 9,
      "outputs": [
        {
          "output_type": "stream",
          "name": "stdout",
          "text": [
            "part-00000-364a14f8-c6cb-4592-889f-ef2e9b2d8c76-c000.json  _SUCCESS\n"
          ]
        },
        {
          "output_type": "execute_result",
          "data": {
            "text/plain": [
              "50"
            ]
          },
          "metadata": {},
          "execution_count": 9
        }
      ]
    },
    {
      "cell_type": "code",
      "source": [
        "# reading json as text\n",
        "spark.read.text(path).show(10, False)"
      ],
      "metadata": {
        "id": "D3hYNCubT0ry",
        "outputId": "2b3800c7-0c3f-4f4c-ca8e-26c5a7217496",
        "colab": {
          "base_uri": "https://localhost:8080/"
        }
      },
      "execution_count": 10,
      "outputs": [
        {
          "output_type": "stream",
          "name": "stdout",
          "text": [
            "+----------------------------------------------------------------------------------------------------------------------------------------------------------------------------------------------------------------------------------------------+\n",
            "|value                                                                                                                                                                                                                                         |\n",
            "+----------------------------------------------------------------------------------------------------------------------------------------------------------------------------------------------------------------------------------------------+\n",
            "|{\"address\":\"59077 Joshua Ridges\\nPort Julie, OK 99092\",\"date\":\"2024-05-03T09:01:14.749Z\",\"dob\":\"1946-08-08\",\"email\":\"michaellewis@example.org\",\"name\":\"Debra Conway\",\"phone\":\"(777)925-5409x40604\",\"date_part\":\"20240503\"}                    |\n",
            "|{\"address\":\"324 Tammy Spring Apt. 966\\nStevenburgh, RI 17678\",\"date\":\"2024-05-02T00:40:15.946Z\",\"dob\":\"1945-02-22\",\"email\":\"ybrown@example.org\",\"name\":\"Mary Miller\",\"phone\":\"(327)968-3327\",\"date_part\":\"20240502\"}                          |\n",
            "|{\"address\":\"USCGC Moore\\nFPO AA 13632\",\"date\":\"2024-05-04T21:35:43.139Z\",\"dob\":\"1934-02-12\",\"email\":\"sandovaltodd@example.org\",\"name\":\"Amanda Nelson\",\"phone\":\"001-704-946-3108x43652\",\"date_part\":\"20240504\"}                                |\n",
            "|{\"address\":\"29914 Palmer Way\\nWest Gene, PR 85126\",\"date\":\"2024-05-04T21:25:26.602Z\",\"dob\":\"2016-09-08\",\"email\":\"rebeccaharding@example.net\",\"name\":\"Carl Carter\",\"phone\":\"+1-886-945-7695x243\",\"date_part\":\"20240504\"}                       |\n",
            "|{\"address\":\"932 Robert Common Apt. 450\\nOrtizton, RI 57810\",\"date\":\"2024-05-04T04:42:29.279Z\",\"dob\":\"2011-03-14\",\"email\":\"cmiller@example.net\",\"name\":\"Steven Martinez\",\"phone\":\"+1-631-410-9783\",\"date_part\":\"20240504\"}                     |\n",
            "|{\"address\":\"0666 Bailey Cliffs\\nChristinaland, ME 11275\",\"date\":\"2024-05-04T17:22:42.219Z\",\"dob\":\"1947-03-22\",\"email\":\"carneyguy@example.net\",\"name\":\"Felicia Anderson\",\"phone\":\"(326)718-9770\",\"date_part\":\"20240504\"}                       |\n",
            "|{\"address\":\"6946 Victor Ridge Apt. 706\\nNorth Sean, MP 62604\",\"date\":\"2024-05-02T14:31:37.720Z\",\"dob\":\"2002-06-23\",\"email\":\"rebecca34@example.net\",\"name\":\"Eric Hamilton\",\"phone\":\"269-754-4528\",\"date_part\":\"20240502\"}                      |\n",
            "|{\"address\":\"32595 Melissa Alley Suite 008\\nPeterland, GU 15586\",\"date\":\"2024-05-01T21:50:30.230Z\",\"dob\":\"1941-11-23\",\"email\":\"jodisoto@example.net\",\"name\":\"James Patterson\",\"phone\":\"(431)420-6168x30023\",\"date_part\":\"20240501\"}            |\n",
            "|{\"address\":\"647 Steven Corners\\nPeterfurt, PA 47264\",\"date\":\"2024-05-02T06:39:40.288Z\",\"dob\":\"1965-06-07\",\"email\":\"nmoore@example.com\",\"name\":\"Theresa Garcia\",\"phone\":\"(625)238-4008x35587\",\"date_part\":\"20240502\"}                          |\n",
            "|{\"address\":\"94414 Gabriel Manors Suite 366\\nNorth Matthewborough, NC 97088\",\"date\":\"2024-05-03T19:49:09.279Z\",\"dob\":\"1909-11-19\",\"email\":\"cheryl37@example.com\",\"name\":\"Amanda Foster\",\"phone\":\"+1-259-934-3091x12314\",\"date_part\":\"20240503\"}|\n",
            "+----------------------------------------------------------------------------------------------------------------------------------------------------------------------------------------------------------------------------------------------+\n",
            "only showing top 10 rows\n",
            "\n"
          ]
        }
      ]
    },
    {
      "cell_type": "code",
      "source": [
        "# reading json as text\n",
        "spark.read.json(path).show(10, False)"
      ],
      "metadata": {
        "id": "0bHcT2ilUo_F",
        "outputId": "e2f886df-ad08-4f40-e5b9-2110c2d796df",
        "colab": {
          "base_uri": "https://localhost:8080/"
        }
      },
      "execution_count": 11,
      "outputs": [
        {
          "output_type": "stream",
          "name": "stdout",
          "text": [
            "+--------------------------------------------------------------+------------------------+---------+----------+--------------------------+----------------+----------------------+\n",
            "|address                                                       |date                    |date_part|dob       |email                     |name            |phone                 |\n",
            "+--------------------------------------------------------------+------------------------+---------+----------+--------------------------+----------------+----------------------+\n",
            "|59077 Joshua Ridges\\nPort Julie, OK 99092                     |2024-05-03T09:01:14.749Z|20240503 |1946-08-08|michaellewis@example.org  |Debra Conway    |(777)925-5409x40604   |\n",
            "|324 Tammy Spring Apt. 966\\nStevenburgh, RI 17678              |2024-05-02T00:40:15.946Z|20240502 |1945-02-22|ybrown@example.org        |Mary Miller     |(327)968-3327         |\n",
            "|USCGC Moore\\nFPO AA 13632                                     |2024-05-04T21:35:43.139Z|20240504 |1934-02-12|sandovaltodd@example.org  |Amanda Nelson   |001-704-946-3108x43652|\n",
            "|29914 Palmer Way\\nWest Gene, PR 85126                         |2024-05-04T21:25:26.602Z|20240504 |2016-09-08|rebeccaharding@example.net|Carl Carter     |+1-886-945-7695x243   |\n",
            "|932 Robert Common Apt. 450\\nOrtizton, RI 57810                |2024-05-04T04:42:29.279Z|20240504 |2011-03-14|cmiller@example.net       |Steven Martinez |+1-631-410-9783       |\n",
            "|0666 Bailey Cliffs\\nChristinaland, ME 11275                   |2024-05-04T17:22:42.219Z|20240504 |1947-03-22|carneyguy@example.net     |Felicia Anderson|(326)718-9770         |\n",
            "|6946 Victor Ridge Apt. 706\\nNorth Sean, MP 62604              |2024-05-02T14:31:37.720Z|20240502 |2002-06-23|rebecca34@example.net     |Eric Hamilton   |269-754-4528          |\n",
            "|32595 Melissa Alley Suite 008\\nPeterland, GU 15586            |2024-05-01T21:50:30.230Z|20240501 |1941-11-23|jodisoto@example.net      |James Patterson |(431)420-6168x30023   |\n",
            "|647 Steven Corners\\nPeterfurt, PA 47264                       |2024-05-02T06:39:40.288Z|20240502 |1965-06-07|nmoore@example.com        |Theresa Garcia  |(625)238-4008x35587   |\n",
            "|94414 Gabriel Manors Suite 366\\nNorth Matthewborough, NC 97088|2024-05-03T19:49:09.279Z|20240503 |1909-11-19|cheryl37@example.com      |Amanda Foster   |+1-259-934-3091x12314 |\n",
            "+--------------------------------------------------------------+------------------------+---------+----------+--------------------------+----------------+----------------------+\n",
            "only showing top 10 rows\n",
            "\n"
          ]
        }
      ]
    },
    {
      "cell_type": "code",
      "source": [
        "# partition json data + saveAsTable\n",
        "\n",
        "# Creating partition column\n",
        "df = df.withColumn(\"date_part\", date_format(col(\"date\"), \"yyyyMMdd\"))\n",
        "\n",
        "# write as json\n",
        "(df.write\n",
        "  .partitionBy(\"date_part\")\n",
        "  .mode(\"overwrite\")\n",
        "  .format(\"json\")\n",
        "  .saveAsTable(\"tbl_json_part\"))\n",
        "\n",
        "# read as json\n",
        "spark.table(\"tbl_json_part\").count()\n",
        "\n",
        "# read as json\n",
        "spark.sql(\"show partitions tbl_json_part\").show()"
      ],
      "metadata": {
        "id": "Qj59UNMuU0hV",
        "outputId": "08b3e5e4-60a4-4244-ecaf-3808347e3df1",
        "colab": {
          "base_uri": "https://localhost:8080/"
        }
      },
      "execution_count": 12,
      "outputs": [
        {
          "output_type": "stream",
          "name": "stdout",
          "text": [
            "+------------------+\n",
            "|         partition|\n",
            "+------------------+\n",
            "|date_part=20240501|\n",
            "|date_part=20240502|\n",
            "|date_part=20240503|\n",
            "|date_part=20240504|\n",
            "+------------------+\n",
            "\n"
          ]
        }
      ]
    },
    {
      "cell_type": "markdown",
      "source": [
        "# Append Mode"
      ],
      "metadata": {
        "id": "6RhijzyqZeeq"
      }
    },
    {
      "cell_type": "code",
      "source": [
        "# Writing as PARQUET with APPEND\n",
        "\n",
        "path = \"/content/write_partitioning/parquet_append\"\n",
        "\n",
        "df.write.mode(\"append\").format(\"parquet\").save(path)\n",
        "\n",
        "!ls /content/write_partitioning/parquet_append\n",
        "\n",
        "spark.read.format(\"parquet\").load(path).count()"
      ],
      "metadata": {
        "id": "GmLjA1zDZeG_",
        "outputId": "e32b6672-2dac-4e32-e0af-3080fca7f61d",
        "colab": {
          "base_uri": "https://localhost:8080/"
        }
      },
      "execution_count": 13,
      "outputs": [
        {
          "output_type": "stream",
          "name": "stdout",
          "text": [
            "part-00000-21fcff2a-0e6c-49e7-b02a-3338debad347-c000.snappy.parquet  _SUCCESS\n"
          ]
        },
        {
          "output_type": "execute_result",
          "data": {
            "text/plain": [
              "50"
            ]
          },
          "metadata": {},
          "execution_count": 13
        }
      ]
    }
  ],
  "metadata": {
    "colab": {
      "provenance": [],
      "include_colab_link": true
    },
    "kernelspec": {
      "display_name": "Python 3",
      "name": "python3"
    },
    "language_info": {
      "name": "python"
    }
  },
  "nbformat": 4,
  "nbformat_minor": 0
}