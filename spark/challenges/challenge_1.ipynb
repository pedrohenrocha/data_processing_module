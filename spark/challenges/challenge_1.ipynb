{
  "cells": [
    {
      "cell_type": "markdown",
      "metadata": {
        "id": "view-in-github",
        "colab_type": "text"
      },
      "source": [
        "<a href=\"https://colab.research.google.com/github/pedrohenrocha/data_processing_module/blob/main/spark/challenges/challenge_1.ipynb\" target=\"_parent\"><img src=\"https://colab.research.google.com/assets/colab-badge.svg\" alt=\"Open In Colab\"/></a>"
      ]
    },
    {
      "cell_type": "markdown",
      "metadata": {
        "id": "BOA_wQSmLd9z"
      },
      "source": [
        "# CHALLENGE 1\n",
        "##  Implement INGESTION process\n",
        "- Set up path in the \"lake\"\n",
        "  - !mkdir -p /content/lake/bronze\n",
        "\n",
        "- Read data from API https://api.carrismetropolitana.pt/\n",
        "  - Endpoints:\n",
        "    - vehicles\n",
        "    - lines\n",
        "    - municipalities\n",
        "  - Use StructFields to enforce schema\n",
        "\n",
        "- Transformations\n",
        "  - vehicles\n",
        "    - create \"date\" extracted from \"timestamp\" column (format: date - yyyy-mm-dd or yyyymmdd)\n",
        "\n",
        "- Write data as PARQUET into the BRONZE layer (/content/lake/bronze)\n",
        "  - Partition \"vehicles\" by \"date\" column\n",
        "  - Paths:\n",
        "    - vehicles - path: /content/lake/bronze/vehicles\n",
        "    - lines - path: /content/lake/bronze/lines\n",
        "    - municipalities - path: /content/lake/bronze/municipalities\n",
        "  - Make sure there is only 1 single parquet created\n",
        "  - Use overwrite as write mode"
      ]
    },
    {
      "cell_type": "markdown",
      "metadata": {
        "id": "d9LeYFsPTjAb"
      },
      "source": [
        "# Setting up PySpark"
      ]
    },
    {
      "cell_type": "code",
      "execution_count": 1,
      "metadata": {
        "colab": {
          "base_uri": "https://localhost:8080/"
        },
        "id": "uYXeODL0T1fO",
        "outputId": "a8eb559a-3284-4e67-bcff-fade46d069a2"
      },
      "outputs": [
        {
          "output_type": "stream",
          "name": "stdout",
          "text": [
            "Requirement already satisfied: pyspark in /usr/local/lib/python3.11/dist-packages (3.5.1)\n",
            "Requirement already satisfied: py4j==0.10.9.7 in /usr/local/lib/python3.11/dist-packages (from pyspark) (0.10.9.7)\n"
          ]
        }
      ],
      "source": [
        "%pip install pyspark"
      ]
    },
    {
      "cell_type": "code",
      "source": [
        "!mkdir -p /content/lake/bronze/vehicles\n",
        "!mkdir -p /content/lake/bronze/lines\n",
        "!mkdir -p /content/lake/bronze/municipalities"
      ],
      "metadata": {
        "id": "r0wArav6pbIP"
      },
      "execution_count": 2,
      "outputs": []
    },
    {
      "cell_type": "code",
      "source": [
        "from pyspark.sql import SparkSession\n",
        "spark = SparkSession.builder.master('local').appName('Spark Course').config('spark.ui.port', '4050').getOrCreate()\n",
        "sc = spark.sparkContext"
      ],
      "metadata": {
        "id": "k5UkC-Tfnj7U"
      },
      "execution_count": 3,
      "outputs": []
    },
    {
      "cell_type": "code",
      "source": [
        "import requests\n",
        "from pyspark.sql.types import *\n",
        "\n",
        "def readFromAPI(url: str, schema: StructType = None):\n",
        "  response = requests.get(url)\n",
        "  rdd = sc.parallelize(response.json())\n",
        "\n",
        "  if schema:\n",
        "    df = spark.read.schema(schema).json(rdd)\n",
        "  else:\n",
        "    df = spark.read.json(rdd)\n",
        "  return df"
      ],
      "metadata": {
        "id": "pRvZ65mCpApJ"
      },
      "execution_count": 4,
      "outputs": []
    },
    {
      "cell_type": "code",
      "source": [
        "#Definition of Schemas\n",
        "\n",
        "municipalities_schema = StructType([StructField('district_id', StringType(), True),\n",
        "                                    StructField('district_name', StringType(), True),\n",
        "                                    StructField('id', StringType(), True),\n",
        "                                    StructField('name', StringType(), True),\n",
        "                                    StructField('prefix', StringType(), True),\n",
        "                                    StructField('region_id', StringType(), True),\n",
        "                                    StructField('region_name', StringType(), True)])\n",
        "\n",
        "lines_schema = StructType([StructField('_corrupt_record', StringType(), True),\n",
        "                           StructField('color', StringType(), True),\n",
        "                           StructField('facilities', ArrayType(StringType(), True), True),\n",
        "                           StructField('id', StringType(), True),\n",
        "                           StructField('localities', ArrayType(StringType(), True), True),\n",
        "                           StructField('long_name', StringType(), True),\n",
        "                           StructField('municipalities', ArrayType(StringType(), True), True),\n",
        "                           StructField('patterns', ArrayType(StringType(), True), True),\n",
        "                           StructField('routes', ArrayType(StringType(), True), True),\n",
        "                           StructField('short_name', StringType(), True),\n",
        "                           StructField('text_color', StringType(), True)])\n",
        "\n",
        "vehicles_schema = StructType([StructField('bearing', LongType(), True),\n",
        "                              StructField('block_id', StringType(), True),\n",
        "                              StructField('current_status', StringType(), True),\n",
        "                              StructField('id', StringType(), True),\n",
        "                              StructField('lat', DoubleType(), True),\n",
        "                              StructField('line_id', StringType(), True),\n",
        "                              StructField('lon', DoubleType(), True),\n",
        "                              StructField('pattern_id', StringType(), True),\n",
        "                              StructField('route_id', StringType(), True),\n",
        "                              StructField('schedule_relationship', StringType(), True),\n",
        "                              StructField('shift_id', StringType(), True),\n",
        "                              StructField('speed', DoubleType(), True),\n",
        "                              StructField('stop_id', StringType(), True),\n",
        "                              StructField('timestamp', LongType(), True),\n",
        "                              StructField('trip_id', StringType(), True)])\n",
        "\n",
        "\n"
      ],
      "metadata": {
        "id": "4UeZFxj0q36k"
      },
      "execution_count": 5,
      "outputs": []
    },
    {
      "cell_type": "code",
      "source": [
        "#Definition of endpoints as parameters\n",
        "schemas = {\n",
        "    \"vehicles\": vehicles_schema,\n",
        "    \"lines\": lines_schema,\n",
        "    \"municipalities\": municipalities_schema\n",
        "}\n",
        "\n",
        "\n",
        "endpoints = {\n",
        "    \"vehicles\": \"https://api.carrismetropolitana.pt/vehicles\",\n",
        "    \"lines\": \"https://api.carrismetropolitana.pt/lines\",\n",
        "    \"municipalities\": \"https://api.carrismetropolitana.pt/municipalities\"}"
      ],
      "metadata": {
        "id": "wLdRz7z7sarg"
      },
      "execution_count": 6,
      "outputs": []
    },
    {
      "cell_type": "code",
      "source": [
        "# Iteration through the parameters defined above to read the data using the API and then writing them into their respective bronze folder\n",
        "\n",
        "from pyspark.sql.functions import from_unixtime, col, to_date\n",
        "\n",
        "for endpoint_name, url in endpoints.items():\n",
        "  schema = schemas.get(endpoint_name)\n",
        "\n",
        "  if schema:\n",
        "    print(f\"Reading data from {endpoint_name} endpoint...\")\n",
        "    df = readFromAPI(url, schema=schema)\n",
        "\n",
        "    print(f\"Successfully read data for {endpoint_name}.\")\n",
        "\n",
        "    if endpoint_name == \"vehicles\":\n",
        "      df = df.withColumn(\"date\", to_date(from_unixtime(col(\"timestamp\"))))\n",
        "      df.write.mode(\"overwrite\").partitionBy(\"date\").parquet(f\"/content/lake/bronze/vehicles\")\n",
        "    else:\n",
        "      df.write.mode(\"overwrite\").parquet(f\"/content/lake/bronze/{endpoint_name}\")\n",
        "\n",
        "  else:\n",
        "    print(f\"No schema defined for {endpoint_name} endpoint.\")\n"
      ],
      "metadata": {
        "colab": {
          "base_uri": "https://localhost:8080/"
        },
        "id": "zH-s1hlNsCeZ",
        "outputId": "1ba7a2f4-1d9e-40f3-ab75-9bbd9a1c46ad"
      },
      "execution_count": 7,
      "outputs": [
        {
          "output_type": "stream",
          "name": "stdout",
          "text": [
            "Reading data from vehicles endpoint...\n",
            "Successfully read data for vehicles.\n",
            "Reading data from lines endpoint...\n",
            "Successfully read data for lines.\n",
            "Reading data from municipalities endpoint...\n",
            "Successfully read data for municipalities.\n"
          ]
        }
      ]
    },
    {
      "cell_type": "markdown",
      "source": [
        "# CHALLENGE 2\n",
        "##  Implement CLEANSING process\n",
        "- Set up path in the \"lake\"\n",
        "  - !mkdir -p /content/lake/silver\n",
        "\n",
        "- Read data from BRONZE layer as PARQUET:\n",
        "    - vehicles - path: /content/lake/bronze/vehicles\n",
        "    - lines - path: /content/lake/bronze/lines\n",
        "    - municipalities - path: /content/lake/bronze/municipalities\n",
        "\n",
        "- Transformations\n",
        "  - vehicles\n",
        "    - rename \"lat\" and \"lon\" to \"latitude\" and \"longitude\" respectively\n",
        "    - remove possible duplicates\n",
        "    - remove rows when the column CURRENT_STATUS is null\n",
        "    - remove any corrupted record\n",
        "  - lines\n",
        "    - remove duplicates\n",
        "    - remove rows when the column LONG_NAME is null\n",
        "    - remove any corrupted record\n",
        "  - municipalities\n",
        "    - remove duplicates\n",
        "    - remove rows when the columns NAME or DISTRICT_NAME are null\n",
        "    - remove any corrupted record\n",
        "\n",
        "- Write data as PARQUET into the SILVER layer (/content/lake/silver)\n",
        "  - Partition \"vehicles\" by \"date\"(created in the ingestion)\n",
        "  - Paths:\n",
        "    - vehicles - path: /content/lake/silver/vehicles\n",
        "    - lines - path: /content/lake/silver/lines\n",
        "    - municipalities - path: /content/lake/silver/municipalities"
      ],
      "metadata": {
        "id": "R0MH8fn1xe5A"
      }
    },
    {
      "cell_type": "code",
      "source": [
        "# Creation of silver directories\n",
        "\n",
        "!mkdir -p /content/lake/silver/vehicles\n",
        "!mkdir -p /content/lake/silver/lines\n",
        "!mkdir -p /content/lake/silver/municipalities"
      ],
      "metadata": {
        "id": "Yd4bCxqIx1HJ"
      },
      "execution_count": 12,
      "outputs": []
    },
    {
      "cell_type": "code",
      "source": [
        "# Reading the parquet files from the bronze layer\n",
        "bronze_paths = {\n",
        "    \"vehicles\": \"/content/lake/bronze/vehicles\",\n",
        "    \"lines\": \"/content/lake/bronze/lines\",\n",
        "    \"municipalities\": \"/content/lake/bronze/municipalities\"\n",
        "}\n",
        "\n",
        "df_vehicles = spark.read.parquet(bronze_paths[\"vehicles\"])\n",
        "df_lines = spark.read.parquet(bronze_paths[\"lines\"])\n",
        "df_municipalities = spark.read.parquet(bronze_paths[\"municipalities\"])"
      ],
      "metadata": {
        "id": "KYRnpeGlysG-"
      },
      "execution_count": 8,
      "outputs": []
    },
    {
      "cell_type": "code",
      "source": [
        "# Transformations in Vehicles\n",
        "\n",
        "df_vehicles = df_vehicles.withColumnRenamed(\"lat\", \"latitude\") \\\n",
        "                         .withColumnRenamed(\"lon\", \"longitude\") \\\n",
        "                         .dropDuplicates() \\\n",
        "                         .filter(col(\"current_status\").isNotNull())\n",
        "\n",
        "if \"_corrupt_record\" in df_vehicles.columns:\n",
        "  df_vehicles = df_vehicles.filter(col(\"_corrupt_record\").isNull())"
      ],
      "metadata": {
        "id": "EWpGZMHnzI4d"
      },
      "execution_count": 9,
      "outputs": []
    },
    {
      "cell_type": "code",
      "source": [
        "# Transformation in Lines\n",
        "\n",
        "df_lines = df_lines.dropDuplicates() \\\n",
        "                   .filter(col(\"long_name\").isNotNull())\n",
        "\n",
        "if \"_corrupt_record\" in df_lines.columns:\n",
        "  df_lines = df_lines.filter(col(\"_corrupt_record\").isNull())"
      ],
      "metadata": {
        "id": "C0kupPntza23"
      },
      "execution_count": 10,
      "outputs": []
    },
    {
      "cell_type": "code",
      "source": [
        "# Transformation in Municipalties\n",
        "\n",
        "df_municipalities = df_municipalities.dropDuplicates() \\\n",
        "                                    .filter(col(\"name\").isNotNull() | col(\"district_name\").isNotNull())\n",
        "\n",
        "if \"_corrupt_record\" in df_municipalities.columns:\n",
        "  df_municipalities = df_municipalities.filter(col(\"_corrupt_record\").isNull())"
      ],
      "metadata": {
        "id": "T7_BhwvKzj2w"
      },
      "execution_count": 11,
      "outputs": []
    },
    {
      "cell_type": "code",
      "source": [
        "# Writing the dataframes as parquet in the silver layer\n",
        "\n",
        "silver_paths = {\n",
        "    \"vehicles\": \"/content/lake/silver/vehicles\",\n",
        "    \"lines\": \"/content/lake/silver/lines\",\n",
        "    \"municipalities\": \"/content/lake/silver/municipalities\"\n",
        "}\n",
        "\n",
        "df_vehicles.write.mode(\"overwrite\").partitionBy(\"date\").parquet(silver_paths[\"vehicles\"])\n",
        "df_lines.write.mode(\"overwrite\").parquet(silver_paths[\"lines\"])\n",
        "df_municipalities.write.mode(\"overwrite\").parquet(silver_paths[\"municipalities\"])"
      ],
      "metadata": {
        "id": "p6qeW8VP0tDJ"
      },
      "execution_count": 12,
      "outputs": []
    },
    {
      "cell_type": "markdown",
      "source": [
        "# CHALLENGE 3\n",
        "##  Implement ENRICH process\n",
        "- Set up path in the \"lake\"\n",
        "  - !mkdir -p /content/lake/gold\n",
        "\n",
        "- Read data from SILVER layer\n",
        "  - Paths:\n",
        "    - vehicles - path: /content/lake/silver/vehicles\n",
        "    - lines - path: /content/lake/silver/lines\n",
        "    - municipalities - path: /content/lake/silver/municipalities\n",
        "  - Use StructFields to enforce schema\n",
        "\n",
        "- Enrichment\n",
        "  - Enrich vehicles dataset with information from the line and municipalities\n",
        "    - join vehicles with lines and municipalities\n",
        "      - select all columns from vehicles + lines.long_name (name: line_name, format:string) + municipalities.name (name: municipality_name, format: array)\n",
        "      - Note that \"municipalities.name\" is an array\n",
        "\n",
        "- Write data as PARQUET into the GOLD layer (/content/lake/gold)\n",
        "  - Dataset name: vehicles_enriched\n",
        "  - Partition \"vehicles_enriched\" by \"date\" column\n",
        "  - Paths:\n",
        "    - vehicles - path: /content/lake/gold/vehicles_enriched\n",
        "  - Make sure there is only 1 single parquet created\n",
        "  - Use overwrite as write mode"
      ],
      "metadata": {
        "id": "Y82I4xbD1Owd"
      }
    },
    {
      "cell_type": "code",
      "source": [
        "!mkdir -p /content/lake/gold"
      ],
      "metadata": {
        "id": "eHXDu85B8Kpp"
      },
      "execution_count": null,
      "outputs": []
    },
    {
      "cell_type": "code",
      "source": [
        "# Reading the parquet files from the silver layer\n",
        "silver_paths = {\n",
        "    \"vehicles\": \"/content/lake/silver/vehicles\",\n",
        "    \"lines\": \"/content/lake/silver/lines\",\n",
        "    \"municipalities\": \"/content/lake/silver/municipalities\"\n",
        "}\n",
        "\n",
        "df_vehicles_gold = spark.read.parquet(silver_paths[\"vehicles\"])\n",
        "df_lines_gold = spark.read.parquet(silver_paths[\"lines\"])\n",
        "df_municipalities_gold = spark.read.parquet(silver_paths[\"municipalities\"])"
      ],
      "metadata": {
        "id": "7jcqFZLL1aAE"
      },
      "execution_count": 13,
      "outputs": []
    },
    {
      "cell_type": "code",
      "source": [
        "# Joins to get lines and municipalities names\n",
        "from pyspark.sql.functions import collect_list, explode\n",
        "\n",
        "# Explode municipalities array in df_lines_gold to join with municipalities\n",
        "df_lines_municipalities = df_lines_gold.withColumn(\"municipality_id_line\", explode(col(\"municipalities\")))\n",
        "\n",
        "# Join lines and municipalities to get municipality names for each line\n",
        "df_lines_with_municipality_names = df_lines_municipalities.join(\n",
        "    df_municipalities_gold.select(col(\"id\").alias(\"municipality_id_mun\"), col(\"name\").alias(\"municipality_name_str\")),\n",
        "    col(\"municipality_id_line\") == col(\"municipality_id_mun\"),\n",
        "    \"left\"\n",
        ")\n",
        "\n",
        "# Group by line_id and collect municipality names into an array\n",
        "df_lines_aggregated_municipalities = df_lines_with_municipality_names.groupBy(col(\"id\").alias(\"line_id_agg\")).agg(\n",
        "    collect_list(\"municipality_name_str\").alias(\"municipality_name\")\n",
        ").drop(\"municipality_id_line\", \"municipality_id_mun\", \"municipality_name_str\")\n",
        "\n",
        "df_vehicles_enriched = df_vehicles_gold.join(\n",
        "    df_lines_aggregated_municipalities,\n",
        "    df_vehicles_gold.line_id == col(\"line_id_agg\"),\n",
        "    \"left\"\n",
        ").join(\n",
        "    df_lines_gold.select(col(\"id\").alias(\"line_id_lines\"), col(\"long_name\").alias(\"line_name\")),\n",
        "    df_vehicles_gold.line_id == col(\"line_id_lines\"),\n",
        "    \"left\"\n",
        ").drop(\"line_id_agg\", \"line_id_lines\")"
      ],
      "metadata": {
        "id": "Mmxjf_eI4S6L"
      },
      "execution_count": 15,
      "outputs": []
    },
    {
      "cell_type": "code",
      "source": [
        "# Writing the dataframe as parquet in the gold layer\n",
        "df_vehicles_enriched.write.mode(\"overwrite\").partitionBy(\"date\").parquet(\"/content/lake/gold/vehicles_enriched\")"
      ],
      "metadata": {
        "id": "Kl4N9_My2uRl"
      },
      "execution_count": 16,
      "outputs": []
    },
    {
      "cell_type": "markdown",
      "source": [
        "# CHALLENGE 4\n",
        "##  Analyze data\n",
        "\n",
        "- Query table \"vehicles_enriched\" in gold layer\n",
        "- Aggregate data by municipality_name (array)\n",
        "- Calculate:\n",
        "  - count of vehicles (id) that pass through that municipality\n",
        "  - sum speed of vehicles\n",
        "\n",
        "Questions:\n",
        "  - What are the top 3 municipalities by vehicles routes?\n",
        "  - What are the top 3 municipalities with higher vehicle speed on average?\n",
        "\n",
        "\n",
        "Tips:\n",
        "- explode array into rows -> https://spark.apache.org/docs/latest/api/python/reference/pyspark.sql/api/pyspark.sql.functions.explode.html\n"
      ],
      "metadata": {
        "id": "uHochCOU8S3D"
      }
    },
    {
      "cell_type": "code",
      "source": [
        "# Querying and aggregating the column to be analyzed\n",
        "from pyspark.sql.functions import count, sum, explode, col, avg\n",
        "\n",
        "df_analysis = spark.read.parquet(\"/content/lake/gold/vehicles_enriched\")\n",
        "df_analysis = df_analysis.withColumn(\"municipality_name\", explode(col(\"municipality_name\")))\n",
        "\n",
        "aggregated_df = df_analysis.groupBy(\"municipality_name\").agg(\n",
        "    count(\"id\").alias(\"count_vehicles\"),\n",
        "    avg(\"speed\").alias(\"average_speed\")\n",
        ")\n",
        "\n",
        "aggregated_df.show()"
      ],
      "metadata": {
        "id": "gckTuXaC8f9p",
        "outputId": "47ea2226-856e-4d4b-cdf6-6a8dfa40723e",
        "colab": {
          "base_uri": "https://localhost:8080/"
        }
      },
      "execution_count": 24,
      "outputs": [
        {
          "output_type": "stream",
          "name": "stdout",
          "text": [
            "+-------------------+--------------+------------------+\n",
            "|  municipality_name|count_vehicles|     average_speed|\n",
            "+-------------------+--------------+------------------+\n",
            "|           Odivelas|            46| 6.956521739130435|\n",
            "|           Barreiro|             7| 9.325396825396826|\n",
            "|             Sintra|            44| 6.578282828282831|\n",
            "|            Palmela|            11|10.126262626262626|\n",
            "|          Alcochete|             2| 4.027777777777778|\n",
            "|            Cascais|             9| 6.728395061728395|\n",
            "|Vila Franca de Xira|            23| 6.340579710144928|\n",
            "|              Moita|             8| 7.708333333333334|\n",
            "|            Amadora|            34|5.5964052287581705|\n",
            "|             Almada|            51|7.7178649237472765|\n",
            "|              Mafra|            11| 9.722222222222221|\n",
            "|             Lisboa|           104| 7.852564102564099|\n",
            "|             Loures|            66| 7.121212121212121|\n",
            "|            Setúbal|            20|10.097222222222221|\n",
            "|            Montijo|             9| 9.413580246913579|\n",
            "|           Sesimbra|             9| 7.962962962962964|\n",
            "|             Oeiras|            29| 7.231800766283526|\n",
            "|             Seixal|            37| 6.126126126126125|\n",
            "+-------------------+--------------+------------------+\n",
            "\n"
          ]
        }
      ]
    },
    {
      "cell_type": "code",
      "source": [
        "# Question 1: What are the top 3 municipalities by vehicles routes?\n",
        "\n",
        "df_question1 = aggregated_df.orderBy(col(\"count_vehicles\").desc()).limit(3)\n",
        "df_question1.show()"
      ],
      "metadata": {
        "colab": {
          "base_uri": "https://localhost:8080/"
        },
        "id": "DVDegMM7EBHl",
        "outputId": "e1695ebc-98f6-4061-836f-b5c668d92df3"
      },
      "execution_count": 27,
      "outputs": [
        {
          "output_type": "stream",
          "name": "stdout",
          "text": [
            "+-----------------+--------------+------------------+\n",
            "|municipality_name|count_vehicles|     average_speed|\n",
            "+-----------------+--------------+------------------+\n",
            "|           Lisboa|           104| 7.852564102564099|\n",
            "|           Loures|            66| 7.121212121212121|\n",
            "|           Almada|            51|7.7178649237472765|\n",
            "+-----------------+--------------+------------------+\n",
            "\n"
          ]
        }
      ]
    },
    {
      "cell_type": "code",
      "source": [
        "# Question 2: What are the top 3 municipalities with higher vehicle speed on average?\n",
        "\n",
        "df_question2 = aggregated_df.orderBy(col(\"average_speed\").desc()).limit(3)\n",
        "df_question2.show()"
      ],
      "metadata": {
        "colab": {
          "base_uri": "https://localhost:8080/"
        },
        "id": "ZHfxt-t3EKdc",
        "outputId": "065cfc02-626b-4de4-ea85-82a8beaff3b2"
      },
      "execution_count": 25,
      "outputs": [
        {
          "output_type": "stream",
          "name": "stdout",
          "text": [
            "+-----------------+--------------+------------------+\n",
            "|municipality_name|count_vehicles|     average_speed|\n",
            "+-----------------+--------------+------------------+\n",
            "|          Palmela|            11|10.126262626262626|\n",
            "|          Setúbal|            20|10.097222222222221|\n",
            "|            Mafra|            11| 9.722222222222221|\n",
            "+-----------------+--------------+------------------+\n",
            "\n"
          ]
        }
      ]
    }
  ],
  "metadata": {
    "colab": {
      "provenance": [],
      "include_colab_link": true
    },
    "kernelspec": {
      "display_name": "Python 3",
      "name": "python3"
    },
    "language_info": {
      "name": "python"
    }
  },
  "nbformat": 4,
  "nbformat_minor": 0
}